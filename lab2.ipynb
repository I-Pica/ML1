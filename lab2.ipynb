{
 "cells": [
  {
   "cell_type": "markdown",
   "metadata": {},
   "source": [
    "# **Save this file as studentid1_studentid2_lab#.ipynb**\n",
    "(Your student-id is the number shown on your student card.)\n",
    "\n",
    "E.g. if you work with 3 people, the notebook should be named:\n",
    "12301230_3434343_1238938934_lab1.ipynb.\n",
    "\n",
    "**This will be parsed by a regexp, so please double check your filename.**\n",
    "\n",
    "Before you turn this problem in, please make sure everything runs correctly. First, **restart the kernel** (in the menubar, select Kernel$\\rightarrow$Restart) and then **run all cells** (in the menubar, select Cell$\\rightarrow$Run All).\n",
    "\n",
    "**Make sure you fill in any place that says `YOUR CODE HERE` or \"YOUR ANSWER HERE\", as well as your names and email adresses below.**\n",
    "\n"
   ]
  },
  {
   "cell_type": "code",
   "execution_count": 1,
   "metadata": {
    "collapsed": true
   },
   "outputs": [],
   "source": [
    "NAME = \"Partha Das\"\n",
    "NAME2 = \"Ildefonso Ferreira Pica\"\n",
    "EMAIL = \"partha.das.pdt@gmail.com\"\n",
    "EMAIL2 = \"ildefonso.ferreirapica@student.uva.nl\""
   ]
  },
  {
   "cell_type": "markdown",
   "metadata": {},
   "source": [
    "---"
   ]
  },
  {
   "cell_type": "markdown",
   "metadata": {
    "deletable": false,
    "editable": false,
    "nbgrader": {
     "checksum": "c39ec76a03b2143870009fb35729e8e0",
     "grade": false,
     "grade_id": "cell-8d856208da5d0763",
     "locked": true,
     "schema_version": 1,
     "solution": false
    }
   },
   "source": [
    "# Lab 2: Classification\n",
    "\n",
    "### Machine Learning 1, September 2017\n",
    "\n",
    "Notes on implementation:\n",
    "\n",
    "* You should write your code and answers in this IPython Notebook: http://ipython.org/notebook.html. If you have problems, please contact your teaching assistant.\n",
    "* Please write your answers right below the questions.\n",
    "* Among the first lines of your notebook should be \"%pylab inline\". This imports all required modules, and your plots will appear inline.\n",
    "* Use the provided test cells to check if your answers are correct\n",
    "* **Make sure your output and plots are correct before handing in your assignment with Kernel -> Restart & Run All**\n",
    "\n",
    "$\\newcommand{\\bx}{\\mathbf{x}}$\n",
    "$\\newcommand{\\bw}{\\mathbf{w}}$\n",
    "$\\newcommand{\\bt}{\\mathbf{t}}$\n",
    "$\\newcommand{\\by}{\\mathbf{y}}$\n",
    "$\\newcommand{\\bm}{\\mathbf{m}}$\n",
    "$\\newcommand{\\bb}{\\mathbf{b}}$\n",
    "$\\newcommand{\\bS}{\\mathbf{S}}$\n",
    "$\\newcommand{\\ba}{\\mathbf{a}}$\n",
    "$\\newcommand{\\bz}{\\mathbf{z}}$\n",
    "$\\newcommand{\\bv}{\\mathbf{v}}$\n",
    "$\\newcommand{\\bq}{\\mathbf{q}}$\n",
    "$\\newcommand{\\bp}{\\mathbf{p}}$\n",
    "$\\newcommand{\\bh}{\\mathbf{h}}$\n",
    "$\\newcommand{\\bI}{\\mathbf{I}}$\n",
    "$\\newcommand{\\bX}{\\mathbf{X}}$\n",
    "$\\newcommand{\\bT}{\\mathbf{T}}$\n",
    "$\\newcommand{\\bPhi}{\\mathbf{\\Phi}}$\n",
    "$\\newcommand{\\bW}{\\mathbf{W}}$\n",
    "$\\newcommand{\\bV}{\\mathbf{V}}$"
   ]
  },
  {
   "cell_type": "code",
   "execution_count": 2,
   "metadata": {
    "deletable": false,
    "editable": false,
    "nbgrader": {
     "checksum": "694e16c6fa7261b60747c28904049744",
     "grade": false,
     "grade_id": "cell-422dbc02437671ac",
     "locked": true,
     "schema_version": 1,
     "solution": false
    }
   },
   "outputs": [
    {
     "name": "stdout",
     "output_type": "stream",
     "text": [
      "Populating the interactive namespace from numpy and matplotlib\n"
     ]
    }
   ],
   "source": [
    "%pylab inline\n",
    "plt.rcParams[\"figure.figsize\"] = [9,5]"
   ]
  },
  {
   "cell_type": "markdown",
   "metadata": {
    "deletable": false,
    "editable": false,
    "nbgrader": {
     "checksum": "17f77a32492fcf6ac989eab8a50e4dab",
     "grade": false,
     "grade_id": "cell-821f67d8cd14e4f7",
     "locked": true,
     "schema_version": 1,
     "solution": false
    }
   },
   "source": [
    "# Part 1. Multiclass logistic regression\n",
    "\n",
    "Scenario: you have a friend with one big problem: she's completely blind. You decided to help her: she has a special smartphone for blind people, and you are going to develop a mobile phone app that can do _machine vision_ using the mobile camera: converting a picture (from the camera) to the meaning of the image. You decide to start with an app that can read handwritten digits, i.e. convert an image of handwritten digits to text (e.g. it would enable her to read precious handwritten phone numbers).\n",
    "\n",
    "A key building block for such an app would be a function `predict_digit(x)` that returns the digit class of an image patch $\\bx$. Since hand-coding this function is highly non-trivial, you decide to solve this problem using machine learning, such that the internal parameters of this function are automatically learned using machine learning techniques.\n",
    "\n",
    "The dataset you're going to use for this is the MNIST handwritten digits dataset (`http://yann.lecun.com/exdb/mnist/`). You can download the data with scikit learn, and load it as follows:"
   ]
  },
  {
   "cell_type": "code",
   "execution_count": 3,
   "metadata": {
    "collapsed": true,
    "deletable": false,
    "editable": false,
    "nbgrader": {
     "checksum": "b82a7c9aec1e9157526d4fbe12f1d75d",
     "grade": false,
     "grade_id": "cell-bcdbc957165abae7",
     "locked": true,
     "schema_version": 1,
     "solution": false
    }
   },
   "outputs": [],
   "source": [
    "from sklearn.datasets import fetch_mldata\n",
    "# Fetch the data\n",
    "mnist = fetch_mldata('MNIST original')\n",
    "data, target = mnist.data, mnist.target.astype('int')\n",
    "# Shuffle\n",
    "indices = np.arange(len(data))\n",
    "np.random.seed(123)\n",
    "np.random.shuffle(indices)\n",
    "data, target = data[indices].astype('float32'), target[indices]\n",
    "\n",
    "# Normalize the data between 0.0 and 1.0:\n",
    "data /= 255. \n",
    "\n",
    "# Split\n",
    "x_train, x_valid, x_test = data[:50000], data[50000:60000], data[60000: 70000]\n",
    "t_train, t_valid, t_test = target[:50000], target[50000:60000], target[60000: 70000]"
   ]
  },
  {
   "cell_type": "markdown",
   "metadata": {
    "deletable": false,
    "editable": false,
    "nbgrader": {
     "checksum": "5b20138af0810741223d2c2ddc82bf0f",
     "grade": false,
     "grade_id": "cell-b7b4a5a96dccf229",
     "locked": true,
     "schema_version": 1,
     "solution": false
    }
   },
   "source": [
    "MNIST consists of small 28 by 28 pixel images of written digits (0-9). We split the dataset into a training, validation and testing arrays. The variables `x_train`, `x_valid` and `x_test` are $N \\times M$ matrices, where $N$ is the number of datapoints in the respective set, and $M = 28^2 = 784$ is the dimensionality of the data. The second set of variables `t_train`, `t_valid` and `t_test` contain the corresponding $N$-dimensional vector of integers, containing the true class labels.\n",
    "\n",
    "Here's a visualisation of the first 8 digits of the trainingset:"
   ]
  },
  {
   "cell_type": "code",
   "execution_count": 4,
   "metadata": {
    "deletable": false,
    "editable": false,
    "nbgrader": {
     "checksum": "40e1628ec56b6d664edf9aaf496ea637",
     "grade": false,
     "grade_id": "cell-48a92c0a2a2bf4dd",
     "locked": true,
     "schema_version": 1,
     "solution": false
    }
   },
   "outputs": [
    {
     "data": {
      "image/png": "[encoded data removed]",
      "text/plain": [
       "<matplotlib.figure.Figure at 0x11218d208>"
      ]
     },
     "metadata": {},
     "output_type": "display_data"
    }
   ],
   "source": [
    "def plot_digits(data, num_cols, targets=None, shape=(28,28)):\n",
    "    num_digits = data.shape[0]\n",
    "    num_rows = int(num_digits/num_cols)\n",
    "    for i in range(num_digits):\n",
    "        plt.subplot(num_rows, num_cols, i+1)\n",
    "        plt.imshow(data[i].reshape(shape), interpolation='none', cmap='Greys')\n",
    "        if targets is not None:\n",
    "            plt.title(int(targets[i]))\n",
    "        plt.colorbar()\n",
    "        plt.axis('off')\n",
    "    plt.tight_layout()\n",
    "    plt.show()\n",
    "    \n",
    "plot_digits(x_train[0:40000:5000], num_cols=4, targets=t_train[0:40000:5000])"
   ]
  },
  {
   "cell_type": "markdown",
   "metadata": {
    "deletable": false,
    "editable": false,
    "nbgrader": {
     "checksum": "9908b1f7669980cd126946bf7983c096",
     "grade": false,
     "grade_id": "cell-3eb664a58e03bf42",
     "locked": true,
     "schema_version": 1,
     "solution": false
    }
   },
   "source": [
    "In _multiclass_ logistic regression, the conditional probability of class label $j$ given the image $\\bx$ for some datapoint is given by:\n",
    "\n",
    "$ \\log p(t = j \\;|\\; \\bx, \\bb, \\bW) = \\log q_j - \\log Z$\n",
    "\n",
    "where $\\log q_j = \\bw_j^T \\bx + b_j$ (the log of the unnormalized probability of the class $j$), and $Z = \\sum_k q_k$ is the normalizing factor. $\\bw_j$ is the $j$-th column of $\\bW$ (a matrix of size $784 \\times 10$) corresponding to the class label, $b_j$ is the $j$-th element of $\\bb$.\n",
    "\n",
    "Given an input image, the multiclass logistic regression model first computes the intermediate vector $\\log \\bq$ (of size $10 \\times 1$), using $\\log q_j = \\bw_j^T \\bx + b_j$, containing the unnormalized log-probabilities per class. \n",
    "\n",
    "The unnormalized probabilities are then normalized by $Z$ such that $\\sum_j p_j = \\sum_j \\exp(\\log p_j) = 1$. This is done by $\\log p_j = \\log q_j - \\log Z$ where $Z = \\sum_i \\exp(\\log q_i)$. This is known as the _softmax_ transformation, and is also used as a last layer of many classifcation neural network models, to ensure that the output of the network is a normalized distribution, regardless of the values of second-to-last layer ($\\log \\bq$)\n",
    "\n",
    "**Warning**: when computing $\\log Z$, you are likely to encounter numerical problems. Save yourself countless hours of debugging and learn the [log-sum-exp trick](https://hips.seas.harvard.edu/blog/2013/01/09/computing-log-sum-exp/ \"Title\").\n",
    "\n",
    "The network's output $\\log \\bp$ of size $10 \\times 1$ then contains the conditional log-probabilities $\\log p(t = j \\;|\\; \\bx, \\bb, \\bW)$ for each digit class $j$. In summary, the computations are done in this order:\n",
    "\n",
    "$\\bx \\rightarrow \\log \\bq \\rightarrow Z \\rightarrow \\log \\bp$\n",
    "\n",
    "Given some dataset with $N$ independent, identically distributed datapoints, the log-likelihood is given by:\n",
    "\n",
    "$ \\mathcal{L}(\\bb, \\bW) = \\sum_{n=1}^N \\mathcal{L}^{(n)}$\n",
    "\n",
    "where we use $\\mathcal{L}^{(n)}$ to denote the partial log-likelihood evaluated over a single datapoint. It is important to see that the log-probability of the class label $t^{(n)}$ given the image, is given by the $t^{(n)}$-th element of the network's output $\\log \\bp$, denoted by $\\log p_{t^{(n)}}$:\n",
    "\n",
    "$\\mathcal{L}^{(n)} = \\log p(t = t^{(n)} \\;|\\; \\bx = \\bx^{(n)}, \\bb, \\bW) = \\log p_{t^{(n)}} = \\log q_{t^{(n)}} - \\log Z^{(n)}$\n",
    "\n",
    "where $\\bx^{(n)}$ and $t^{(n)}$ are the input (image) and class label (integer) of the $n$-th datapoint, and $Z^{(n)}$ is the normalizing constant for the distribution over $t^{(n)}$.\n"
   ]
  },
  {
   "cell_type": "markdown",
   "metadata": {
    "deletable": false,
    "editable": false,
    "nbgrader": {
     "checksum": "dfb50b2b2d11a7b8d1fe9bf5e9586442",
     "grade": false,
     "grade_id": "cell-17766ee789f11384",
     "locked": true,
     "schema_version": 1,
     "solution": false
    }
   },
   "source": [
    "## 1.1 Gradient-based stochastic optimization\n",
    "### 1.1.1 Derive gradient equations (20 points)\n",
    "\n",
    "Derive the equations for computing the (first) partial derivatives of the log-likelihood w.r.t. all the parameters, evaluated at a _single_ datapoint $n$.\n",
    "\n",
    "You should start deriving the equations for $\\frac{\\partial \\mathcal{L}^{(n)}}{\\partial \\log q_j}$ for each $j$. For clarity, we'll use the shorthand $\\delta^q_j = \\frac{\\partial \\mathcal{L}^{(n)}}{\\partial \\log q_j}$.\n",
    "\n",
    "For $j = t^{(n)}$:\n",
    "$\n",
    "\\delta^q_j\n",
    "= \\frac{\\partial \\mathcal{L}^{(n)}}{\\partial \\log p_j}\n",
    "\\frac{\\partial \\log p_j}{\\partial \\log q_j}\n",
    "+ \\frac{\\partial \\mathcal{L}^{(n)}}{\\partial \\log Z}\n",
    "\\frac{\\partial \\log Z}{\\partial Z} \n",
    "\\frac{\\partial Z}{\\partial \\log q_j} \n",
    "= 1 \\cdot 1 - \\frac{\\partial \\log Z}{\\partial Z} \n",
    "\\frac{\\partial Z}{\\partial \\log q_j}\n",
    "= 1 - \\frac{\\partial \\log Z}{\\partial Z} \n",
    "\\frac{\\partial Z}{\\partial \\log q_j}\n",
    "$\n",
    "\n",
    "For $j \\neq t^{(n)}$:\n",
    "$\n",
    "\\delta^q_j\n",
    "= \\frac{\\partial \\mathcal{L}^{(n)}}{\\partial \\log Z}\n",
    "\\frac{\\partial \\log Z}{\\partial Z} \n",
    "\\frac{\\partial Z}{\\partial \\log q_j} \n",
    "= - \\frac{\\partial \\log Z}{\\partial Z} \n",
    "\\frac{\\partial Z}{\\partial \\log q_j}\n",
    "$\n",
    "\n",
    "Complete the above derivations for $\\delta^q_j$ by furtherly developing $\\frac{\\partial \\log Z}{\\partial Z}$ and $\\frac{\\partial Z}{\\partial \\log q_j}$. Both are quite simple. For these it doesn't matter whether $j = t^{(n)}$ or not.\n",
    "\n"
   ]
  },
  {
   "cell_type": "markdown",
   "metadata": {
    "deletable": false,
    "nbgrader": {
     "checksum": "f394ea0423ed2b17c80bbe8f1193cc81",
     "grade": true,
     "grade_id": "cell-e40110444a1e1d3f",
     "locked": false,
     "points": 10,
     "schema_version": 1,
     "solution": true
    }
   },
   "source": [
    "For $j = t^{(n)}$:\n",
    "\\begin{align}\n",
    "\\delta^q_j\n",
    "&= 1-\\frac{e^{\\text{log}(q_{j})}}{Z} \n",
    "\\end{align}\n",
    "For $j \\neq t^{(n)}$:\n",
    "\\begin{align}\n",
    "\\delta^q_j\n",
    "&= -\\frac{e^{\\text{log}(q_{j})}}{Z} \n",
    "\\end{align}"
   ]
  },
  {
   "cell_type": "markdown",
   "metadata": {
    "deletable": false,
    "editable": false,
    "nbgrader": {
     "checksum": "d46c028e9830445397d7b2275815990d",
     "grade": false,
     "grade_id": "cell-c770cfe1389ca4ff",
     "locked": true,
     "schema_version": 1,
     "solution": false
    }
   },
   "source": [
    "Given your equations for computing the gradients $\\delta^q_j$ it should be quite straightforward to derive the equations for the gradients of the parameters of the model, $\\frac{\\partial \\mathcal{L}^{(n)}}{\\partial W_{ij}}$ and $\\frac{\\partial \\mathcal{L}^{(n)}}{\\partial b_j}$. The gradients for the biases $\\bb$ are given by:\n",
    "\n",
    "$\n",
    "\\frac{\\partial \\mathcal{L}^{(n)}}{\\partial b_j}\n",
    "= \\frac{\\partial \\mathcal{L}^{(n)}}{\\partial \\log q_j}\n",
    "\\frac{\\partial \\log q_j}{\\partial b_j}\n",
    "= \\delta^q_j\n",
    "\\cdot 1\n",
    "= \\delta^q_j\n",
    "$\n",
    "\n",
    "The equation above gives the derivative of $\\mathcal{L}^{(n)}$ w.r.t. a single element of $\\bb$, so the vector $\\nabla_\\bb \\mathcal{L}^{(n)}$ with all derivatives of $\\mathcal{L}^{(n)}$ w.r.t. the bias parameters $\\bb$ is: \n",
    "\n",
    "$\n",
    "\\nabla_\\bb \\mathcal{L}^{(n)} = \\mathbf{\\delta}^q\n",
    "$\n",
    "\n",
    "where $\\mathbf{\\delta}^q$ denotes the vector of size $10 \\times 1$ with elements $\\mathbf{\\delta}_j^q$.\n",
    "\n",
    "The (not fully developed) equation for computing the derivative of $\\mathcal{L}^{(n)}$ w.r.t. a single element $W_{ij}$ of $\\bW$ is:\n",
    "\n",
    "$\n",
    "\\frac{\\partial \\mathcal{L}^{(n)}}{\\partial W_{ij}} =\n",
    "\\frac{\\partial \\mathcal{L}^{(n)}}{\\partial \\log q_j}\n",
    "\\frac{\\partial \\log q_j}{\\partial W_{ij}}\n",
    "= \\mathbf{\\delta}_j^q\n",
    "\\frac{\\partial \\log q_j}{\\partial W_{ij}}\n",
    "$\n",
    "\n",
    "What is $\\frac{\\partial \\log q_j}{\\partial W_{ij}}$? Complete the equation above.\n",
    "\n",
    "If you want, you can give the resulting equation in vector format ($\\nabla_{\\bw_j} \\mathcal{L}^{(n)} = ...$), like we did for $\\nabla_\\bb \\mathcal{L}^{(n)}$."
   ]
  },
  {
   "cell_type": "markdown",
   "metadata": {
    "deletable": false,
    "nbgrader": {
     "checksum": "70fc98e5b227736e2bb92964a3c7174d",
     "grade": true,
     "grade_id": "cell-e40110444a1asdfasdfd3f",
     "locked": false,
     "points": 10,
     "schema_version": 1,
     "solution": true
    }
   },
   "source": [
    "\\begin{align}\n",
    "\\frac{\\partial \\log q_j}{\\partial W_{ij}} &= \\frac{\\delta}{\\delta \\bW}\\bw^{T}\\bx+\\bb = \\bx\n",
    "\\end{align}"
   ]
  },
  {
   "cell_type": "markdown",
   "metadata": {
    "deletable": false,
    "editable": false,
    "nbgrader": {
     "checksum": "99387b4094640d8cd71bfd15687abc31",
     "grade": false,
     "grade_id": "cell-b0f28b0924b9983d",
     "locked": true,
     "schema_version": 1,
     "solution": false
    }
   },
   "source": [
    "### 1.1.2 Implement gradient computations (10 points)\n",
    "\n",
    "Implement the gradient calculations you derived in the previous question. Write a function `logreg_gradient(x, t, w, b)` that returns the gradients $\\nabla_{\\bw_j} \\mathcal{L}^{(n)}$ (for each $j$) and $\\nabla_{\\bb} \\mathcal{L}^{(n)}$, i.e. the first partial derivatives of the log-likelihood w.r.t. the parameters $\\bW$ and $\\bb$, evaluated at a single datapoint (`x`, `t`).\n",
    "The computation will contain roughly the following intermediate variables:\n",
    "\n",
    "$\n",
    "\\log \\bq \\rightarrow Z \\rightarrow \\log \\bp\\,,\\, \\mathbf{\\delta}^q\n",
    "$\n",
    "\n",
    "followed by computation of the gradient vectors $\\nabla_{\\bw_j} \\mathcal{L}^{(n)}$ (contained in a $784 \\times 10$ matrix) and $\\nabla_{\\bb} \\mathcal{L}^{(n)}$ (a $10 \\times 1$ vector).\n",
    "\n",
    "For maximum points, ensure the function is numerically stable.\n"
   ]
  },
  {
   "cell_type": "code",
   "execution_count": 5,
   "metadata": {
    "collapsed": true,
    "deletable": false,
    "nbgrader": {
     "checksum": "46b3dd32a8837896ac75063695c150f8",
     "grade": false,
     "grade_id": "cell-6858f885be587480",
     "locked": false,
     "schema_version": 1,
     "solution": true
    }
   },
   "outputs": [],
   "source": [
    "def logreg_gradient(x, t, w, b):\n",
    "    # x - 1x784\n",
    "    # t - 1\n",
    "    # w - 784x10\n",
    "    # b - 10x1\n",
    "    logq = np.zeros(10)\n",
    "    tmp_w = w.T\n",
    "    for i in range(10):\n",
    "        logq[i] = np.dot(tmp_w[i, :], x.T) + b[i]\n",
    "        \n",
    "    Z = 0\n",
    "    a = np.max(logq)\n",
    "    for i in range(len(logq)):\n",
    "        Z += np.exp(logq[i])\n",
    "    logZ = np.log(Z)\n",
    "    \n",
    "    logp = np.zeros((10, 1))\n",
    "    for i in range(10):\n",
    "        logp[i] = logq[i] - logZ\n",
    "    \n",
    "    dL_db = np.zeros((10, 1))\n",
    "    for i in range(10):\n",
    "        if i == t:\n",
    "            dL_db[i] = 1 - (np.exp(logq[i]))/Z\n",
    "        else:\n",
    "            dL_db[i] = -(np.exp(logq[i]))/Z\n",
    "    dL_dw = np.dot(dL_db, x)\n",
    "    logp = logp.T\n",
    "    \n",
    "    return logp[:,t].squeeze(), dL_dw.T, dL_db.squeeze()"
   ]
  },
  {
   "cell_type": "code",
   "execution_count": 6,
   "metadata": {
    "deletable": false,
    "editable": false,
    "nbgrader": {
     "checksum": "bcebc974c2a0ac928c9f0381e7e86eec",
     "grade": true,
     "grade_id": "cell-1c9659f607b151a2",
     "locked": true,
     "points": 4,
     "schema_version": 1,
     "solution": false
    }
   },
   "outputs": [
    {
     "name": "stdout",
     "output_type": "stream",
     "text": [
      "Test gradient on one point\n",
      "Likelihood:\t -2.2959726720744777\n",
      "\n",
      "Grad_W_ij\t (784, 10) matrix\n",
      "Grad_W_ij[0,152:158]=\t [-0.04518971 -0.06758809 -0.07819784 -0.09077237 -0.07584012 -0.06365855]\n",
      "\n",
      "Grad_B_i shape\t (10,) vector\n",
      "Grad_B_i=\t [-0.10020327 -0.09977827 -0.1003198   0.89933657 -0.10037941 -0.10072863\n",
      " -0.09982729 -0.09928672 -0.09949324 -0.09931994]\n",
      "i in {0,...,9}; j in M\n"
     ]
    }
   ],
   "source": [
    "np.random.seed(123)\n",
    "# scalar, 10 X 768  matrix, 10 X 1 vector\n",
    "w = np.random.normal(size=(28*28,10), scale=0.001)\n",
    "# w = np.zeros((784,10))\n",
    "b = np.zeros((10,))\n",
    "\n",
    "# test gradients, train on 1 sample\n",
    "logpt, grad_w, grad_b = logreg_gradient(x_train[0:1,:], t_train[0:1], w, b)\n",
    "\n",
    "print(\"Test gradient on one point\")\n",
    "print(\"Likelihood:\\t\", logpt)\n",
    "print(\"\\nGrad_W_ij\\t\",grad_w.shape,\"matrix\")\n",
    "print(\"Grad_W_ij[0,152:158]=\\t\", grad_w[152:158,0])\n",
    "print(\"\\nGrad_B_i shape\\t\",grad_b.shape,\"vector\")\n",
    "print(\"Grad_B_i=\\t\", grad_b.T)\n",
    "print(\"i in {0,...,9}; j in M\")\n",
    "\n",
    "assert logpt.shape == (), logpt.shape\n",
    "assert grad_w.shape == (784, 10), grad_w.shape\n",
    "assert grad_b.shape == (10,), grad_b.shape\n",
    "\n",
    "\n"
   ]
  },
  {
   "cell_type": "code",
   "execution_count": 7,
   "metadata": {
    "deletable": false,
    "editable": false,
    "nbgrader": {
     "checksum": "72121207fa6163adf16cb3381ddde510",
     "grade": true,
     "grade_id": "cell-fd59c3a03a87ab83",
     "locked": true,
     "points": 4,
     "schema_version": 1,
     "solution": false
    }
   },
   "outputs": [
    {
     "name": "stdout",
     "output_type": "stream",
     "text": [
      "Finite difference error grad_w: 6.54572064409e-07\n",
      "Finite difference error grad_b: 6.14886167043e-08\n"
     ]
    }
   ],
   "source": [
    "# It's always good to check your gradient implementations with finite difference checking:\n",
    "# Scipy provides the check_grad function, which requires flat input variables.\n",
    "# So we write two helper functions that provide can compute the gradient and output with 'flat' weights:\n",
    "from scipy.optimize import check_grad\n",
    "\n",
    "np.random.seed(123)\n",
    "# scalar, 10 X 768  matrix, 10 X 1 vector\n",
    "w = np.random.normal(size=(28*28,10), scale=0.001)\n",
    "# w = np.zeros((784,10))\n",
    "b = np.zeros((10,))\n",
    "\n",
    "def func(w):\n",
    "    logpt, grad_w, grad_b = logreg_gradient(x_train[0:1,:], t_train[0:1], w.reshape(784,10), b)\n",
    "    return logpt\n",
    "def grad(w):\n",
    "    logpt, grad_w, grad_b = logreg_gradient(x_train[0:1,:], t_train[0:1], w.reshape(784,10), b)\n",
    "    return grad_w.flatten()\n",
    "finite_diff_error = check_grad(func, grad, w.flatten())\n",
    "print('Finite difference error grad_w:', finite_diff_error)\n",
    "assert finite_diff_error < 1e-3, 'Your gradient computation for w seems off'\n",
    "\n",
    "def func(b):\n",
    "    logpt, grad_w, grad_b = logreg_gradient(x_train[0:1,:], t_train[0:1], w, b)\n",
    "    return logpt\n",
    "def grad(b):\n",
    "    logpt, grad_w, grad_b = logreg_gradient(x_train[0:1,:], t_train[0:1], w, b)\n",
    "    return grad_b.flatten()\n",
    "finite_diff_error = check_grad(func, grad, b)\n",
    "print('Finite difference error grad_b:', finite_diff_error)\n",
    "assert finite_diff_error < 1e-3, 'Your gradient computation for b seems off'\n",
    "\n"
   ]
  },
  {
   "cell_type": "code",
   "execution_count": null,
   "metadata": {
    "collapsed": true,
    "deletable": false,
    "editable": false,
    "nbgrader": {
     "checksum": "82f98bef86ddcf7387f50651a739b189",
     "grade": true,
     "grade_id": "cell-91b8c5eb86f6a0f3",
     "locked": true,
     "points": 2,
     "schema_version": 1,
     "solution": false
    }
   },
   "outputs": [],
   "source": []
  },
  {
   "cell_type": "markdown",
   "metadata": {
    "deletable": false,
    "editable": false,
    "nbgrader": {
     "checksum": "1aedefd481635db2e213dacbca5959d4",
     "grade": false,
     "grade_id": "cell-bdce061b39aaacec",
     "locked": true,
     "schema_version": 1,
     "solution": false
    }
   },
   "source": [
    "\n",
    "### 1.1.3 Stochastic gradient descent (10 points)\n",
    "\n",
    "Write a function `sgd_iter(x_train, t_train, w, b)` that performs one iteration of stochastic gradient descent (SGD), and returns the new weights. It should go through the trainingset once in randomized order, call `logreg_gradient(x, t, w, b)` for each datapoint to get the gradients, and update the parameters **using a small learning rate of `1E-6`**. Note that in this case we're maximizing the likelihood function, so we should actually performing gradient ___ascent___... For more information about SGD, see Bishop 5.2.4 or an online source (i.e. https://en.wikipedia.org/wiki/Stochastic_gradient_descent)"
   ]
  },
  {
   "cell_type": "code",
   "execution_count": 8,
   "metadata": {
    "collapsed": true,
    "deletable": false,
    "nbgrader": {
     "checksum": "a1fd10093bd350a24e4a718bc0133738",
     "grade": true,
     "grade_id": "cell-86bf84658f1c5bc8",
     "locked": false,
     "points": 5,
     "schema_version": 1,
     "solution": true
    }
   },
   "outputs": [],
   "source": [
    "def sgd_iter(x_train, t_train, W, b):\n",
    "    learning_rate = 1E-6\n",
    "    idx = np.arange(0, len(t_train))\n",
    "    np.random.shuffle(idx)\n",
    "    logp_train = np.zeros(len(t_train))\n",
    "    for i in idx:\n",
    "        logp_train[i], grad_W, grad_b = logreg_gradient(x_train[i:i+1,:], t_train[i:i+1], W, b)\n",
    "        W += learning_rate * grad_W\n",
    "        b += learning_rate * grad_b\n",
    "    return logp_train, W, b"
   ]
  },
  {
   "cell_type": "code",
   "execution_count": 9,
   "metadata": {
    "collapsed": true,
    "deletable": false,
    "editable": false,
    "nbgrader": {
     "checksum": "f4eb4ba6aee968be7e896cb4ef74e745",
     "grade": true,
     "grade_id": "cell-2f7bbc264cc887a0",
     "locked": true,
     "points": 5,
     "schema_version": 1,
     "solution": false
    }
   },
   "outputs": [],
   "source": [
    "# Sanity check:\n",
    "np.random.seed(1243)\n",
    "w = np.zeros((28*28, 10))\n",
    "b = np.zeros(10)\n",
    "    \n",
    "logp_train, W, b = sgd_iter(x_train[:5], t_train[:5], w, b)\n"
   ]
  },
  {
   "cell_type": "markdown",
   "metadata": {
    "deletable": false,
    "editable": false,
    "nbgrader": {
     "checksum": "32ce2e1e1bc8ee7c2ed647ea65c6f943",
     "grade": false,
     "grade_id": "cell-81634c804e1f93fc",
     "locked": true,
     "schema_version": 1,
     "solution": false
    }
   },
   "source": [
    "## 1.2. Train\n",
    "\n",
    "### 1.2.1 Train (10 points)\n",
    "Perform 10 SGD iterations through the trainingset. Plot (in one graph) the conditional log-probability of the trainingset and validation set after each iteration.\n"
   ]
  },
  {
   "cell_type": "code",
   "execution_count": 10,
   "metadata": {
    "deletable": false,
    "nbgrader": {
     "checksum": "02d6fffcf7065691be87ea236459d3e1",
     "grade": true,
     "grade_id": "cell-20a347ba4db6e82c",
     "locked": false,
     "points": 10,
     "schema_version": 1,
     "solution": true
    }
   },
   "outputs": [
    {
     "name": "stdout",
     "output_type": "stream",
     "text": [
      "Start testing...\n",
      "iteration: 0 of 20 logp train: [-2.27586185] logp valid: [-2.24930302] t: 14.725053071975708\n",
      "iteration: 1 of 20 logp train: [-2.22393664] logp valid: [-2.19835342] t: 15.153948068618774\n",
      "iteration: 2 of 20 logp train: [-2.17420893] logp valid: [-2.14950231] t: 13.804853916168213\n",
      "iteration: 3 of 20 logp train: [-2.12646641] logp valid: [-2.1025607] t: 12.75371789932251\n",
      "iteration: 4 of 20 logp train: [-2.08055734] logp valid: [-2.05741231] t: 12.533996105194092\n",
      "iteration: 5 of 20 logp train: [-2.03637788] logp valid: [-2.01396043] t: 15.647325038909912\n",
      "iteration: 6 of 20 logp train: [-1.99383686] logp valid: [-1.97212217] t: 12.724670886993408\n",
      "iteration: 7 of 20 logp train: [-1.95286416] logp valid: [-1.93183421] t: 13.985292911529541\n",
      "iteration: 8 of 20 logp train: [-1.91339744] logp valid: [-1.89303562] t: 12.317219734191895\n",
      "iteration: 9 of 20 logp train: [-1.87537942] logp valid: [-1.85566957] t: 15.669288158416748\n",
      "iteration: 10 of 20 logp train: [-1.83875635] logp valid: [-1.8196852] t: 11.728516101837158\n",
      "iteration: 11 of 20 logp train: [-1.80347956] logp valid: [-1.78503712] t: 11.493865013122559\n",
      "iteration: 12 of 20 logp train: [-1.76950139] logp valid: [-1.75167277] t: 11.534648895263672\n",
      "iteration: 13 of 20 logp train: [-1.73677498] logp valid: [-1.7195466] t: 11.51301383972168\n",
      "iteration: 14 of 20 logp train: [-1.70525279] logp valid: [-1.68861131] t: 11.525015115737915\n",
      "iteration: 15 of 20 logp train: [-1.67489003] logp valid: [-1.65882033] t: 11.561063051223755\n",
      "iteration: 16 of 20 logp train: [-1.6456411] logp valid: [-1.6301315] t: 11.546819925308228\n",
      "iteration: 17 of 20 logp train: [-1.61746413] logp valid: [-1.60249916] t: 11.516475915908813\n",
      "iteration: 18 of 20 logp train: [-1.59031644] logp valid: [-1.57588323] t: 11.574252843856812\n",
      "iteration: 19 of 20 logp train: [-1.56415694] logp valid: [-1.55024107] t: 11.657519817352295\n",
      "Done!\n"
     ]
    },
    {
     "data": {
      "image/png": "[encoded data removed]",
      "text/plain": [
       "<matplotlib.figure.Figure at 0x112dee550>"
      ]
     },
     "metadata": {},
     "output_type": "display_data"
    }
   ],
   "source": [
    "import sys\n",
    "import time\n",
    "def prediction(x, w, b):\n",
    "    logq = np.zeros(10)\n",
    "    tmp_w = w.T\n",
    "    for i in range(10):\n",
    "        logq[i] = np.dot(tmp_w[i, :], x.T) + b[i]\n",
    "        \n",
    "    Z = 0\n",
    "    a = np.max(logq)\n",
    "    for i in range(len(logq)):\n",
    "        Z += np.exp(logq[i] - a)\n",
    "    logZ = a + np.log(Z)\n",
    "    \n",
    "    logp = np.zeros((10, 1))\n",
    "    for i in range(10):\n",
    "        logp[i] = logq[i] - logZ\n",
    "    return logp\n",
    "\n",
    "def avg_probs(log_probs):\n",
    "    return np.sum(log_probs)/len(log_probs)\n",
    "\n",
    "def test_sgd(x_train, t_train, w, b):\n",
    "    print(\"Start testing...\")\n",
    "    n_iter = 20\n",
    "    logp_t = np.zeros((n_iter,1))\n",
    "    logp_v = np.zeros((n_iter,1))\n",
    "    for i in range(n_iter):\n",
    "        t1 = time.time()\n",
    "        sys.stdout.write(\"\\r\" + \"iteration: \" + str(i) + \" of \" + str(n_iter))\n",
    "        logp_train, w, b = sgd_iter(x_train, t_train, w, b)\n",
    "        logp_valid = []\n",
    "        for j in range(len(x_valid)):\n",
    "            x = x_valid[j:j+1, :]\n",
    "            t = t_valid[j:j+1]\n",
    "            pred_p = prediction(x, w, b)\n",
    "            logp_valid.append(pred_p[t])\n",
    "        logp_t[i] = avg_probs(logp_train)\n",
    "        logp_v[i] = avg_probs(logp_valid)\n",
    "        print(\" logp train:\", logp_t[i], \"logp valid:\", logp_v[i], \"t:\", time.time()-t1)\n",
    "        sys.stdout.flush()\n",
    "    print(\"Done!\")\n",
    "    plt.plot(logp_t, label='Train')\n",
    "    plt.plot(logp_v, label='Validation')\n",
    "    plt.legend()\n",
    "    plt.xlabel('Iterations')\n",
    "    plt.ylabel('log p')\n",
    "    plt.title('Average conditional log probability for training and validation set')\n",
    "    plt.show()\n",
    "    return w, b\n",
    "\n",
    "np.random.seed(1243)\n",
    "w = np.zeros((28*28, 10))\n",
    "b = np.zeros(10)\n",
    "w,b = test_sgd(x_train, t_train, w, b)"
   ]
  },
  {
   "cell_type": "markdown",
   "metadata": {
    "deletable": false,
    "editable": false,
    "nbgrader": {
     "checksum": "a6d85bbd97cad35d524b65b23f64e75f",
     "grade": false,
     "grade_id": "cell-cf7f3da57d19493a",
     "locked": true,
     "schema_version": 1,
     "solution": false
    }
   },
   "source": [
    "### 1.2.2 Visualize weights (10 points)\n",
    "Visualize the resulting parameters $\\bW$ after a few iterations through the training set, by treating each column of $\\bW$ as an image. If you want, you can use or edit the `plot_digits(...)` above.\n"
   ]
  },
  {
   "cell_type": "code",
   "execution_count": 11,
   "metadata": {
    "deletable": false,
    "nbgrader": {
     "checksum": "4e554436500eebe1527a31039570a264",
     "grade": true,
     "grade_id": "cell-b10656f35fac065e",
     "locked": false,
     "points": 5,
     "schema_version": 1,
     "solution": true
    },
    "scrolled": true
   },
   "outputs": [
    {
     "data": {
      "image/png": "[encoded data removed]",
      "text/plain": [
       "<matplotlib.figure.Figure at 0x112db29b0>"
      ]
     },
     "metadata": {},
     "output_type": "display_data"
    }
   ],
   "source": [
    "w[:,:1].shape\n",
    "plot_digits(w[:,0:10:1].T, num_cols=5)"
   ]
  },
  {
   "cell_type": "markdown",
   "metadata": {
    "deletable": false,
    "nbgrader": {
     "checksum": "de187afcf5ae1e34b80bc10610760e7a",
     "grade": true,
     "grade_id": "cell-eb131c8b7303da38",
     "locked": false,
     "points": 5,
     "schema_version": 1,
     "solution": true
    }
   },
   "source": [
    "**Describe in less than 100 words why these weights minimize the loss**\n",
    "\n",
    "\n",
    "These weights minimize the loss, because they are the representative of their respective classes. As such, the first one has high activations for pixels arranged in a circular fashion, that is zeros, to which class that weights corresponds. Similarly for the rest of the classes. Smaller activations are present around the high ones in order to accomodate varying styles of the digits."
   ]
  },
  {
   "cell_type": "markdown",
   "metadata": {
    "deletable": false,
    "editable": false,
    "nbgrader": {
     "checksum": "2bb485340ba8ee90a0d8cbc90fc7a7af",
     "grade": false,
     "grade_id": "cell-f36d974d9ef34c97",
     "locked": true,
     "schema_version": 1,
     "solution": false
    }
   },
   "source": [
    "### 1.2.3. Visualize the 8 hardest and 8 easiest digits (10 points)\n",
    "Visualize the 8 digits in the validation set with the highest probability of the true class label under the model.\n",
    "Also plot the 8 digits that were assigned the lowest probability.\n",
    "Ask yourself if these results make sense."
   ]
  },
  {
   "cell_type": "code",
   "execution_count": 12,
   "metadata": {
    "deletable": false,
    "nbgrader": {
     "checksum": "7fe3011f6f3ef6f6b00f58bb5dea7b76",
     "grade": true,
     "grade_id": "cell-3802d61680deeff5",
     "locked": false,
     "points": 10,
     "schema_version": 1,
     "solution": true
    },
    "scrolled": true
   },
   "outputs": [
    {
     "name": "stdout",
     "output_type": "stream",
     "text": [
      "Model Accuracy: 78.17 %\n",
      "Easiest predictions:\n"
     ]
    },
    {
     "data": {
      "image/png": "[encoded data removed]",
      "text/plain": [
       "<matplotlib.figure.Figure at 0x112950fd0>"
      ]
     },
     "metadata": {},
     "output_type": "display_data"
    },
    {
     "name": "stdout",
     "output_type": "stream",
     "text": [
      "Hardest predictions\n"
     ]
    },
    {
     "data": {
      "image/png": "[encoded data removed]",
      "text/plain": [
       "<matplotlib.figure.Figure at 0x112ed7b38>"
      ]
     },
     "metadata": {},
     "output_type": "display_data"
    }
   ],
   "source": [
    "best = []\n",
    "for j in range(len(x_test)):\n",
    "        x = x_test[j:j+1, :]\n",
    "        t = t_test[j:j+1]\n",
    "        prob = prediction(x, w, b)\n",
    "        target = np.argmax(prob)\n",
    "        if target == t:\n",
    "            best.append((t, np.exp(prob[target]), j))\n",
    "sorted_best = sorted(best, key=lambda x: x[1])\n",
    "best_sel = [idx for (t, prob, idx) in sorted_best[-8:]]\n",
    "worst_sel = [idx for (t, prob, idx) in sorted_best[:8]]\n",
    "print('Model Accuracy: %0.2f %%' % (len(best)/10000 * 100))\n",
    "print('Easiest predictions:')\n",
    "plot_digits(x_valid[best_sel], num_cols=8)\n",
    "print('Hardest predictions')\n",
    "plot_digits(x_valid[worst_sel], num_cols=8)"
   ]
  },
  {
   "cell_type": "markdown",
   "metadata": {},
   "source": [
    "The predictions does make sense, because the fail cases are instances where the digits are quite deformed from the normal ones. For example the 2 is quite knotted and hence is not as clear as the 2 in the easier prediction where the different parts are well separated."
   ]
  },
  {
   "cell_type": "markdown",
   "metadata": {
    "deletable": false,
    "editable": false,
    "nbgrader": {
     "checksum": "8d3b971f8daced95f5020cfffcb89d02",
     "grade": false,
     "grade_id": "cell-2c525344c99e5b26",
     "locked": true,
     "schema_version": 1,
     "solution": false
    }
   },
   "source": [
    "# Part 2. Multilayer perceptron\n",
    "\n",
    "\n",
    "You discover that the predictions by the logistic regression classifier are not good enough for your application: the model is too simple. You want to increase the accuracy of your predictions by using a better model. For this purpose, you're going to use a multilayer perceptron (MLP), a simple kind of neural network. The perceptron wil have a single hidden layer $\\bh$ with $L$ elements. The parameters of the model are $\\bV$ (connections between input $\\bx$ and hidden layer $\\bh$), $\\ba$ (the biases/intercepts of $\\bh$), $\\bW$ (connections between $\\bh$ and $\\log q$) and $\\bb$ (the biases/intercepts of $\\log q$.\n",
    "\n",
    "The conditional probability of the class label $j$ is given by:\n",
    "\n",
    "$\\log p(t = j \\;|\\; \\bx, \\bb, \\bW) = \\log q_j - \\log Z$\n",
    "\n",
    "where $q_j$ are again the unnormalized probabilities per class, and $Z = \\sum_j q_j$ is again the probability normalizing factor. Each $q_j$ is computed using:\n",
    "\n",
    "$\\log q_j = \\bw_j^T \\bh + b_j$\n",
    "\n",
    "where $\\bh$ is a $L \\times 1$ vector with the hidden layer activations (of a hidden layer with size $L$), and $\\bw_j$ is the $j$-th column of $\\bW$ (a $L \\times 10$ matrix). Each element of the hidden layer is computed from the input vector $\\bx$ using:\n",
    "\n",
    "$h_j = \\sigma(\\bv_j^T \\bx + a_j)$\n",
    "\n",
    "where $\\bv_j$ is the $j$-th column of $\\bV$ (a $784 \\times L$ matrix), $a_j$ is the $j$-th element of $\\ba$, and $\\sigma(.)$ is the so-called sigmoid activation function, defined by:\n",
    "\n",
    "$\\sigma(x) = \\frac{1}{1 + \\exp(-x)}$\n",
    "\n",
    "Note that this model is almost equal to the multiclass logistic regression model, but with an extra 'hidden layer' $\\bh$. The activations of this hidden layer can be viewed as features computed from the input, where the feature transformation ($\\bV$ and $\\ba$) is learned.\n",
    "\n",
    "## 2.1 Derive gradient equations (20 points)\n",
    "\n",
    "State (shortly) why $\\nabla_{\\bb} \\mathcal{L}^{(n)}$ is equal to the earlier (multiclass logistic regression) case, and why $\\nabla_{\\bw_j} \\mathcal{L}^{(n)}$ is almost equal to the earlier case.\n",
    "\n",
    "Like in multiclass logistic regression, you should use intermediate variables $\\mathbf{\\delta}_j^q$. In addition, you should use intermediate variables $\\mathbf{\\delta}_j^h = \\frac{\\partial \\mathcal{L}^{(n)}}{\\partial h_j}$.\n",
    "\n",
    "Given an input image, roughly the following intermediate variables should be computed:\n",
    "\n",
    "$\n",
    "\\log \\bq \\rightarrow Z \\rightarrow \\log \\bp \\rightarrow \\mathbf{\\delta}^q \\rightarrow \\mathbf{\\delta}^h\n",
    "$\n",
    "\n",
    "where $\\mathbf{\\delta}_j^h = \\frac{\\partial \\mathcal{L}^{(n)}}{\\partial \\bh_j}$.\n",
    "\n",
    "Give the equations for computing $\\mathbf{\\delta}^h$, and for computing the derivatives of $\\mathcal{L}^{(n)}$ w.r.t. $\\bW$, $\\bb$, $\\bV$ and $\\ba$. \n",
    "\n",
    "You can use the convenient fact that $\\frac{\\partial}{\\partial x} \\sigma(x) = \\sigma(x) (1 - \\sigma(x))$."
   ]
  },
  {
   "cell_type": "markdown",
   "metadata": {
    "deletable": false,
    "nbgrader": {
     "checksum": "bb7ce29f01484f94a6357784ddaf6412",
     "grade": true,
     "grade_id": "cell-48f48bb8ec75cc3c",
     "locked": false,
     "points": 20,
     "schema_version": 1,
     "solution": true
    }
   },
   "source": [
    "Answer:\n",
    "\n",
    "From the previous question:\n",
    "\n",
    "$\n",
    "\\frac{\\partial \\mathcal{L}^{(n)}}{\\partial b_j}\n",
    "= \\frac{\\partial \\mathcal{L}^{(n)}}{\\partial \\log q_j}\n",
    "\\frac{\\partial \\log q_j}{\\partial b_j}\n",
    "= \\delta^q_j\n",
    "\\cdot 1\n",
    "= \\delta^q_j\n",
    "$\n",
    "\n",
    "For $j = t^{(n)}$:\n",
    "\\begin{align}\n",
    "\\delta^q_j\n",
    "&= 1-\\frac{e^{\\text{log}(q_{j})}}{Z} \n",
    "\\end{align}\n",
    "For $j \\neq t^{(n)}$:\n",
    "\\begin{align}\n",
    "\\delta^q_j\n",
    "&= -\\frac{e^{\\text{log}(q_{j})}}{Z} \n",
    "\\end{align}\n",
    "\n",
    "\n",
    "$\n",
    "\\frac{\\partial \\mathcal{L}^{(n)}}{\\partial w_j} = \n",
    "$\n",
    "\n",
    "For $j = t^{(n)}$:\n",
    "\\begin{align}\n",
    "&= {1-\\frac{e^{\\text{log}(q_{j})}}{Z}}.h\n",
    "\\end{align}\n",
    "For $j \\neq t^{(n)}$:\n",
    "\\begin{align}\n",
    "&= {-\\frac{e^{\\text{log}(q_{j})}}{Z}}.h\n",
    "\\end{align}\n",
    "\n",
    "For $\\nabla_{w_j}\\mathcal{L}^{(n)}$ we have $\\frac{\\partial \\mathcal{L}^{(n)}}{\\partial W_{ij}} = \\delta^q_j\\frac{\\partial\\log q_j}{\\partial W_{ij}}$, where $\\delta^q_j\\frac{\\partial\\log q_j}{\\partial W_{ij}}=h_i$.\n",
    "\n",
    "To compute $\\frac{\\partial\\mathcal(L)^{(n)}}{\\partial\\bh_i}$, we need to split the partial derivative such that $\\frac{\\partial \\mathcal{L}^{(n)}}{\\partial \\bh_i} = \\frac{\\partial \\mathcal{L}^{(n)}}{\\partial \\log q_j}\\frac{\\partial \\log q_j}{\\partial \\bh_i} = \\delta_j^q \\cdot W_{ij}$. Thus, $(\\delta_j^q \\cdot W_{ij})_i = \\delta^h_i$.\n",
    "\n",
    "$\n",
    "\\frac{\\partial\\mathcal{L}^{(n)}}{\\partial V_{ij}} = \\frac{\\partial \\mathcal{L}^{(n)}}{\\partial \\log q_j}\\frac{\\partial \\log q_j}{\\partial \\bh_j}\\frac{\\partial \\bh_j}{\\partial V_{ij}} =\n",
    "\\delta^h_j \\sigma(\\bv_j^T \\bx + a_j)[1 -  \\sigma(\\bv_j^T \\bx + a_j)]x_i\n",
    "$\n",
    "\n",
    "$\n",
    "\\frac{\\partial \\mathcal{L}^{(n)}}{\\partial a_j} = \\frac{\\partial \\mathcal{L}^{(n)}}{\\partial \\log q_j}\\frac{\\partial \\log q_j}{\\partial \\bh_j}\\frac{\\partial \\bh_j}{\\partial a_{j}} =\n",
    "\\delta^h_j  \\sigma(\\bv_j^T \\bx + a_j)[1 -  \\sigma(\\bv_j^T \\bx + a_j)]\n",
    "$\n",
    "\n",
    "\n",
    "$\\nabla_{\\bb} \\mathcal{L}^{(n)}$ is equal to the earlier (multiclass logistic regression) case because the bias is exactly the same as the previous calculation. $\\nabla_{\\bw_j} \\mathcal{L}^{(n)}$ is almost equal to the earlier case because in this case we just have an extra layer of depth that affords more features to be learned by the model."
   ]
  },
  {
   "cell_type": "markdown",
   "metadata": {
    "deletable": false,
    "editable": false,
    "nbgrader": {
     "checksum": "cfcfec5959134f7f3fca2ba585a94fba",
     "grade": false,
     "grade_id": "cell-0bff945081e993fc",
     "locked": true,
     "schema_version": 1,
     "solution": false
    }
   },
   "source": [
    "## 2.2 MAP optimization (10 points)\n",
    "\n",
    "You derived equations for finding the _maximum likelihood_ solution of the parameters. Explain, in a few sentences, how you could extend this approach so that it optimizes towards a _maximum a posteriori_ (MAP) solution of the parameters, with a Gaussian prior on the parameters. "
   ]
  },
  {
   "cell_type": "markdown",
   "metadata": {
    "deletable": false,
    "nbgrader": {
     "checksum": "49d6376929b1cdf60a9ca9282512f1b4",
     "grade": true,
     "grade_id": "cell-1daef2744c010b73",
     "locked": false,
     "points": 10,
     "schema_version": 1,
     "solution": true
    }
   },
   "source": [
    "The maximum likelihood solution of the parameters were obtained by the above equation. These can be further extended to obtain a MAP solution by using the following: MAP = log-likelihood + log-prior, which is Baye's Theorem. Thus with a Guassian prior on the parameter, we can obtain the Maximum a posteriori solution of the parameters."
   ]
  },
  {
   "cell_type": "markdown",
   "metadata": {
    "deletable": false,
    "editable": false,
    "nbgrader": {
     "checksum": "02e47e2058c064a6f9518077e62a9357",
     "grade": false,
     "grade_id": "cell-2e56d8a567e2fb08",
     "locked": true,
     "schema_version": 1,
     "solution": false
    }
   },
   "source": [
    "## 2.3. Implement and train a MLP (15 points)\n",
    "\n",
    "Implement a MLP model with a single hidden layer of **20 neurons**. \n",
    "Train the model for **10 epochs**.\n",
    "Plot (in one graph) the conditional log-probability of the trainingset and validation set after each two iterations, as well as the weights.\n",
    "\n",
    "- 10 points: Working MLP that learns with plots\n",
    "- +5 points: Fast, numerically stable, vectorized implementation"
   ]
  },
  {
   "cell_type": "code",
   "execution_count": 13,
   "metadata": {
    "collapsed": true,
    "deletable": false,
    "nbgrader": {
     "checksum": "f8772d3e65d7f1bef5b739a62c2e192f",
     "grade": true,
     "grade_id": "cell-5d1924ace9e216e2",
     "locked": false,
     "points": 5,
     "schema_version": 1,
     "solution": true
    }
   },
   "outputs": [],
   "source": [
    "def mlp_grad(x, t, w, b, v, a):\n",
    "    tmp = np.dot(x, v) + a\n",
    "    h = 1/(1 + np.exp(-tmp))\n",
    "    logq = np.dot(h, w) + b\n",
    "    a = np.max(logq)\n",
    "    Z = np.sum(np.exp(logq - a))\n",
    "    logZ = a + np.log(Z)\n",
    "    dL_db = -1 * np.exp(logq) / Z\n",
    "    dL_db[t] += 1\n",
    "    dL_dw = np.dot(h[np.newaxis].T, dL_db[np.newaxis])\n",
    "    dL_dh = np.dot(w[:, t], dL_db[t])\n",
    "    dL_da = dL_dh * h * (1 - h)\n",
    "    dL_dv = np.dot(x[np.newaxis].T, dL_da[np.newaxis])\n",
    "    logp = logq - logZ\n",
    "    return logp[t].squeeze(), dL_dw, dL_db, dL_dv, dL_da\n",
    "\n",
    "\n",
    "def mlp_prediction(x, w, b, v, a):\n",
    "    tmp = np.dot(x, v) + a\n",
    "    h = 1/(1 + np.exp(-tmp))\n",
    "    logq = np.dot(h, w) + b\n",
    "        \n",
    "    elem = x.shape[0]\n",
    "    a = np.max(logq)\n",
    "    Z = np.zeros((1, elem))\n",
    "    a = np.max(logq)\n",
    "    Z = np.sum(np.exp(logq -a))\n",
    "    logZ = a + np.log(Z)\n",
    "    logp = logq - logZ\n",
    "    return logp\n",
    "\n",
    "np.random.seed(1234)\n",
    "L = 20\n",
    "w = np.random.normal(size=(L,10), scale=0.001)\n",
    "b = np.zeros((10,))\n",
    "v = np.random.normal(size=(784, L), scale=0.001)\n",
    "a = np.zeros((L,))\n",
    "logp, dw, db, dv, da = mlp_grad(x_test[1, :], t_test[1], w, b, v, a)"
   ]
  },
  {
   "cell_type": "code",
   "execution_count": 14,
   "metadata": {
    "deletable": false,
    "nbgrader": {
     "checksum": "301c1950ea79e09141e8ed170bd8b21b",
     "grade": true,
     "grade_id": "cell-e9b2125a5ea8a22c",
     "locked": false,
     "points": 10,
     "schema_version": 1,
     "solution": true
    },
    "scrolled": true
   },
   "outputs": [
    {
     "name": "stdout",
     "output_type": "stream",
     "text": [
      "Start testing...\n",
      "iteration: 0 of 20 p train: [-2.30261498] p valid: [-2.30258185]  time:  10.230113983154297\n",
      "iteration: 1 of 20 p train: [-2.30253605] p valid: [-2.30247566]  time:  10.24193000793457\n",
      "iteration: 2 of 20 p train: [-2.30246163] p valid: [-2.30237476]  time:  10.387042045593262\n",
      "iteration: 3 of 20 p train: [-2.30239157] p valid: [-2.302279]  time:  10.229097843170166\n",
      "iteration: 4 of 20 p train: [-2.30232562] p valid: [-2.3021881]  time:  14.12974500656128\n",
      "iteration: 5 of 20 p train: [-2.30226358] p valid: [-2.30210186]  time:  10.296717882156372\n",
      "iteration: 6 of 20 p train: [-2.30220522] p valid: [-2.30201982]  time:  10.262968063354492\n",
      "iteration: 7 of 20 p train: [-2.30215018] p valid: [-2.30194181]  time:  10.221136093139648\n",
      "iteration: 8 of 20 p train: [-2.30209835] p valid: [-2.30186772]  time:  10.95043396949768\n",
      "iteration: 9 of 20 p train: [-2.30204959] p valid: [-2.3017974]  time:  10.682516098022461\n",
      "iteration: 10 of 20 p train: [-2.3020037] p valid: [-2.30173065]  time:  10.66894006729126\n",
      "iteration: 11 of 20 p train: [-2.30196048] p valid: [-2.30166683]  time:  12.550621032714844\n",
      "iteration: 12 of 20 p train: [-2.30191967] p valid: [-2.30160634]  time:  10.216124296188354\n",
      "iteration: 13 of 20 p train: [-2.30188131] p valid: [-2.30154872]  time:  10.387895822525024\n",
      "iteration: 14 of 20 p train: [-2.30184509] p valid: [-2.30149397]  time:  10.240055084228516\n",
      "iteration: 15 of 20 p train: [-2.30181102] p valid: [-2.30144166]  time:  10.265732765197754\n",
      "iteration: 16 of 20 p train: [-2.30177874] p valid: [-2.30139206]  time:  10.35181713104248\n",
      "iteration: 17 of 20 p train: [-2.30174843] p valid: [-2.30134466]  time:  10.202606916427612\n",
      "iteration: 18 of 20 p train: [-2.30171973] p valid: [-2.30129934]  time:  10.178657054901123\n",
      "iteration: 19 of 20 p train: [-2.30169255] p valid: [-2.30125622]  time:  10.252914905548096\n",
      "Done!\n"
     ]
    },
    {
     "data": {
      "image/png": "[encoded data removed]",
      "text/plain": [
       "<matplotlib.figure.Figure at 0x112628dd8>"
      ]
     },
     "metadata": {},
     "output_type": "display_data"
    }
   ],
   "source": [
    "def avg_probs(log_probs):\n",
    "    return np.sum(log_probs)/len(log_probs)\n",
    "\n",
    "def siggy(x):\n",
    "    return (1/(1 + np.exp(-x)))\n",
    "\n",
    "def mlp_prediction(x, w, b, v, a):\n",
    "    nums = v.shape[1]\n",
    "    tmp_v = v.T\n",
    "    h = np.zeros((L, 1))\n",
    "    for i in range(nums):\n",
    "        tmp_h = np.dot(tmp_v[i,:], x.T) + a[i]\n",
    "        h[i] = siggy(tmp_h)\n",
    "    nums = w.shape[1]\n",
    "    tmp = w.T\n",
    "    logq = np.zeros((10, 1))\n",
    "    for i in range(nums):\n",
    "        logq[i] = np.dot(tmp[i, :], h) + b[i]\n",
    "        \n",
    "    Z = 0\n",
    "    a = np.max(logq)\n",
    "    for i in range(len(logq)):\n",
    "        Z += np.exp(logq[i] - a)\n",
    "    logZ = a + np.log(Z)\n",
    "    logZ = logZ.squeeze()\n",
    "    \n",
    "    logp = np.zeros((10, 1))\n",
    "    for i in range(10):\n",
    "        logp[i] = logq[i] - logZ\n",
    "    return logp\n",
    "\n",
    "def mlp_sgd_iter(x_train, t_train, W, b, V, a):\n",
    "    learning_rate = 1E-6\n",
    "    idx = np.arange(0, len(t_train))\n",
    "    np.random.shuffle(idx)\n",
    "    logp_train = np.zeros(len(t_train))\n",
    "    for i in idx:\n",
    "        logp_train[i], grad_W, grad_b, grad_V, grad_a = mlp_grad(x_train[i], t_train[i], W, b, V, a)\n",
    "        W += learning_rate * grad_W\n",
    "        b += learning_rate * grad_b\n",
    "        V += learning_rate * grad_V\n",
    "        a += learning_rate * grad_a\n",
    "    return logp_train, W, b, V, a\n",
    "\n",
    "def mlp_train(x_train, t_train, w, b, v, a):\n",
    "    print(\"Start testing...\")\n",
    "    n_iter = 20\n",
    "    logp_t = np.zeros((n_iter,1))\n",
    "    logp_v = np.zeros((n_iter,1))\n",
    "    for i in range(n_iter):\n",
    "        t1 = time.time()\n",
    "        sys.stdout.write(\"\\r\" + \"iteration: \" + str(i) + \" of \" + str(n_iter))\n",
    "        logp_train, w, b, v, a = mlp_sgd_iter(x_train, t_train, w, b, v, a)\n",
    "        logp_valid = []\n",
    "        for j in range(len(x_valid)):\n",
    "            x = x_valid[j:j+1, :]\n",
    "            t = t_valid[j:j+1]\n",
    "            pred_p = mlp_prediction(x, w, b, v, a)\n",
    "            logp_valid.append(pred_p[t])\n",
    "        logp_t[i] = avg_probs(logp_train)\n",
    "        logp_v[i] = avg_probs(logp_valid)\n",
    "        print(\" p train:\", logp_t[i], \"p valid:\", logp_v[i], \" time: \", time.time()-t1)\n",
    "        sys.stdout.flush()\n",
    "    print(\"Done!\")\n",
    "    plt.plot(logp_t, label='Train')\n",
    "    plt.plot(logp_v, label='Validation')\n",
    "    plt.legend()\n",
    "    plt.xlabel('Iterations')\n",
    "    plt.ylabel('log p')\n",
    "    plt.title('Average conditional log probability for training and validation set')\n",
    "    plt.show()\n",
    "    return w, b, v, a\n",
    "\n",
    "np.random.seed(1234)\n",
    "L = 20\n",
    "w = np.random.normal(size=(L,10), scale=0.001)\n",
    "b = np.zeros((10,))\n",
    "v = np.random.normal(size=(784, L), scale=0.001)\n",
    "a = np.zeros((L,))\n",
    "\n",
    "w,b,v,a = mlp_train(x_train, t_train, w, b, v, a)"
   ]
  },
  {
   "cell_type": "code",
   "execution_count": 15,
   "metadata": {},
   "outputs": [
    {
     "data": {
      "image/png": "[encoded data removed]",
      "text/plain": [
       "<matplotlib.figure.Figure at 0x1128c2630>"
      ]
     },
     "metadata": {},
     "output_type": "display_data"
    }
   ],
   "source": [
    "plot_digits(v[:, 0:10:1].T, num_cols=5)"
   ]
  },
  {
   "cell_type": "code",
   "execution_count": 16,
   "metadata": {},
   "outputs": [
    {
     "name": "stdout",
     "output_type": "stream",
     "text": [
      "Model Accuracy: 11.26 %\n",
      "Easiest predictions:\n"
     ]
    },
    {
     "data": {
      "image/png": "[encoded data removed]",
      "text/plain": [
       "<matplotlib.figure.Figure at 0x112ed7748>"
      ]
     },
     "metadata": {},
     "output_type": "display_data"
    },
    {
     "name": "stdout",
     "output_type": "stream",
     "text": [
      "Hardest predictions\n"
     ]
    },
    {
     "data": {
      "image/png": "[encoded data removed]",
      "text/plain": [
       "<matplotlib.figure.Figure at 0x1128c26d8>"
      ]
     },
     "metadata": {},
     "output_type": "display_data"
    }
   ],
   "source": [
    "best = []\n",
    "for j in range(len(x_test)):\n",
    "        x = x_test[j:j+1, :]\n",
    "        t = t_test[j:j+1]\n",
    "        prob = mlp_prediction(x, w, b, v, a)\n",
    "        target = np.argmax(prob)\n",
    "        if target == t:\n",
    "            best.append((t, np.exp(prob[target]), j))\n",
    "sorted_best = sorted(best, key=lambda x: x[1])\n",
    "best_sel = [idx for (t, prob, idx) in sorted_best[-8:]]\n",
    "worst_sel = [idx for (t, prob, idx) in sorted_best[:8]]\n",
    "print('Model Accuracy: %0.2f %%' % (len(best)/10000 * 100))\n",
    "print('Easiest predictions:')\n",
    "plot_digits(x_valid[best_sel], num_cols=8)\n",
    "print('Hardest predictions')\n",
    "plot_digits(x_valid[worst_sel], num_cols=8)"
   ]
  },
  {
   "cell_type": "markdown",
   "metadata": {
    "deletable": false,
    "editable": false,
    "nbgrader": {
     "checksum": "555a73588f1a55d1185064f5a6192cac",
     "grade": false,
     "grade_id": "cell-6ae8cb5a4c246b97",
     "locked": true,
     "schema_version": 1,
     "solution": false
    }
   },
   "source": [
    "### 2.3.1. Explain the weights (5 points)\n",
    "In less than 80 words, explain how and why the weights of the hidden layer of the MLP differ from the logistic regression model, and relate this to the stronger performance of the MLP."
   ]
  },
  {
   "cell_type": "markdown",
   "metadata": {
    "deletable": false,
    "nbgrader": {
     "checksum": "7f6cbf48a398f8722f4d403b957b2075",
     "grade": true,
     "grade_id": "cell-c4fdc27b1aab6828",
     "locked": false,
     "points": 5,
     "schema_version": 1,
     "solution": true
    }
   },
   "source": [
    "The weights in the hidden layer of the MLP encode salient components or features for the several different classes of the data. This increases performance since these features allow for a more invariant or robust representation, thus improving prediction model."
   ]
  },
  {
   "cell_type": "markdown",
   "metadata": {
    "deletable": false,
    "editable": false,
    "nbgrader": {
     "checksum": "fa501d2127075b733105148f21adbaf2",
     "grade": false,
     "grade_id": "cell-df7f372be57b921b",
     "locked": true,
     "schema_version": 1,
     "solution": false
    }
   },
   "source": [
    "### 2.3.1. Less than 250 misclassifications on the test set (10 bonus points)\n",
    "\n",
    "You receive an additional 10 bonus points if you manage to train a model with very high accuracy: at most 2.5% misclasified digits on the test set. Note that the test set contains 10000 digits, so you model should misclassify at most 250 digits. This should be achievable with a MLP model with one hidden layer. See results of various models at : `http://yann.lecun.com/exdb/mnist/index.html`. To reach such a low accuracy, you probably need to have a very high $L$ (many hidden units), probably $L > 200$, and apply a strong Gaussian prior on the weights. In this case you are allowed to use the validation set for training.\n",
    "You are allowed to add additional layers, and use convolutional networks, although that is probably not required to reach 2.5% misclassifications."
   ]
  },
  {
   "cell_type": "code",
   "execution_count": null,
   "metadata": {
    "deletable": false,
    "nbgrader": {
     "checksum": "3d3ce073f1614deb4cc03de3f19879aa",
     "grade": false,
     "grade_id": "cell-2ea313ac02319aa0",
     "locked": false,
     "schema_version": 1,
     "solution": true
    }
   },
   "outputs": [],
   "source": [
    "# Need to reload the data because we use the validation as training data\n",
    "print('Loading data')\n",
    "mnist = fetch_mldata('MNIST original')\n",
    "data, target = mnist.data, mnist.target.astype('int')\n",
    "indices = np.arange(len(data))\n",
    "np.random.seed(123)\n",
    "np.random.shuffle(indices)\n",
    "data, target = data[indices].astype('float32'), target[indices]\n",
    "data /= 255\n",
    "\n",
    "x_train, x_test = data[:60000], data[60000:70000]\n",
    "t_train, t_test = target[:60000], target[60000:70000]\n",
    "\n",
    "predict_test = np.zeros(len(t_test))\n",
    "# Fill predict_test with the predicted targets from your model, don't cheat :-).\n",
    "\n",
    "from keras.models import Sequential\n",
    "from keras.layers import Dense, Activation, Flatten, Convolution2D, MaxPooling2D\n",
    "from keras.utils import np_utils\n",
    "\n",
    "print('Loaded data')\n",
    "\n",
    "# Need to switch because keras expects the tensorflow ordering\n",
    "\n",
    "x_train = x_train.reshape(x_train.shape[0], 28, 28, 1)\n",
    "x_test = x_test.reshape(x_test.shape[0], 28, 28, 1)\n",
    "\n",
    "t_train = np_utils.to_categorical(t_train, 10)\n",
    "targets = np_utils.to_categorical(t_test, 10)\n",
    "\n",
    "net = Sequential()\n",
    "net.add(Convolution2D(32, 5, 5, activation='relu', input_shape=(28, 28, 1)))\n",
    "net.add(MaxPooling2D(pool_size=(2,2)))\n",
    "net.add(Convolution2D(15, 3, 3, activation='relu'))\n",
    "net.add(MaxPooling2D(pool_size=(2,2)))\n",
    "\n",
    "net.add(Flatten())\n",
    "net.add(Dense(128, activation='relu'))\n",
    "net.add(Dense(10, activation='softmax'))\n",
    "\n",
    "net.compile(loss='categorical_crossentropy', optimizer='adam',\n",
    "          metrics=['accuracy'])\n",
    "net.fit(x_train, t_train, batch_size=32, nb_epoch=1, verbose=1)\n",
    "score = net.evaluate(x_test, targets, verbose=0)\n",
    "\n",
    "print('Accuracy: ', score[1] * 100)\n",
    "predicts = net.predict(x_test)\n",
    "for i in range(predict_test.shape[0]):\n",
    "    predict_test[i] = np.argmax(predicts[i, :])"
   ]
  },
  {
   "cell_type": "code",
   "execution_count": null,
   "metadata": {
    "collapsed": true,
    "deletable": false,
    "editable": false,
    "nbgrader": {
     "checksum": "b540e8fc73d65a4cc4139d9841e4aaba",
     "grade": true,
     "grade_id": "cell-4ad977cd0b7d27df",
     "locked": true,
     "points": 10,
     "schema_version": 1,
     "solution": false
    }
   },
   "outputs": [],
   "source": [
    "assert predict_test.shape == t_test.shape\n",
    "n_errors = np.sum(predict_test != t_test)\n",
    "print('Test errors: %d' % n_errors)"
   ]
  },
  {
   "cell_type": "markdown",
   "metadata": {},
   "source": [
    "The above code was run on a PC with a GPU and got an accuracy of 98.41% on the test set. The train set accuracy was 99.68% The model is based on the LeNet architecture by Yann LeCunn (http://yann.lecun.com/exdb/lenet/)\n",
    "Keras with tensorflow backend is required. For using the theano backend, the batch ordering needs to be changed for the x_train, x_test, along with the input_shape ordering for the first layer of the network.\n",
    "The output, as copied from the terminal of the PC is as follows:\n",
    "\n",
    "Epoch 1/10\n",
    "\n",
    "60000/60000 [==============================] - 25s - loss: 0.1582 - acc: 0.9519\n",
    "\n",
    "Epoch 2/10\n",
    "\n",
    "60000/60000 [==============================] - 25s - loss: 0.0527 - acc: 0.9830\n",
    "\n",
    "Epoch 3/10\n",
    "\n",
    "60000/60000 [==============================] - 25s - loss: 0.0381 - acc: 0.9882\n",
    "\n",
    "Epoch 4/10\n",
    "\n",
    "60000/60000 [==============================] - 25s - loss: 0.0288 - acc: 0.9907\n",
    "\n",
    "Epoch 5/10\n",
    "\n",
    "60000/60000 [==============================] - 25s - loss: 0.0223 - acc: 0.9929\n",
    "\n",
    "Epoch 6/10\n",
    "\n",
    "60000/60000 [==============================] - 25s - loss: 0.0185 - acc: 0.9939\n",
    "\n",
    "Epoch 7/10\n",
    "\n",
    "60000/60000 [==============================] - 25s - loss: 0.0141 - acc: 0.9953\n",
    "\n",
    "Epoch 8/10\n",
    "\n",
    "60000/60000 [==============================] - 25s - loss: 0.0144 - acc: 0.9955\n",
    "\n",
    "Epoch 9/10\n",
    "\n",
    "60000/60000 [==============================] - 25s - loss: 0.0115 - acc: 0.9963\n",
    "\n",
    "Epoch 10/10\n",
    "\n",
    "60000/60000 [==============================] - 25s - loss: 0.0098 - acc: 0.9968\n",
    "\n",
    "Accuracy:  98.41\n",
    "Test errors: 159"
   ]
  },
  {
   "cell_type": "code",
   "execution_count": null,
   "metadata": {
    "collapsed": true
   },
   "outputs": [],
   "source": []
  }
 ],
 "metadata": {
  "kernelspec": {
   "display_name": "Python 3",
   "language": "python",
   "name": "python3"
  },
  "language_info": {
   "codemirror_mode": {
    "name": "ipython",
    "version": 3
   },
   "file_extension": ".py",
   "mimetype": "text/x-python",
   "name": "python",
   "nbconvert_exporter": "python",
   "pygments_lexer": "ipython3",
   "version": "3.6.2"
  }
 },
 "nbformat": 4,
 "nbformat_minor": 1
}
